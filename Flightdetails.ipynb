{
 "cells": [
  {
   "cell_type": "code",
   "execution_count": 2,
   "id": "b50ca445",
   "metadata": {},
   "outputs": [
    {
     "name": "stdout",
     "output_type": "stream",
     "text": [
      "Collecting pymysql\n",
      "  Downloading PyMySQL-1.1.1-py3-none-any.whl (44 kB)\n",
      "     -------------------------------------- 45.0/45.0 kB 369.5 kB/s eta 0:00:00\n",
      "Installing collected packages: pymysql\n",
      "Successfully installed pymysql-1.1.1\n"
     ]
    },
    {
     "name": "stderr",
     "output_type": "stream",
     "text": [
      "WARNING: Ignoring invalid distribution -rotobuf (c:\\users\\kiit\\downloads\\anaconda\\lib\\site-packages)\n",
      "WARNING: Ignoring invalid distribution -rotobuf (c:\\users\\kiit\\downloads\\anaconda\\lib\\site-packages)\n",
      "WARNING: Ignoring invalid distribution -rotobuf (c:\\users\\kiit\\downloads\\anaconda\\lib\\site-packages)\n",
      "WARNING: Ignoring invalid distribution -rotobuf (c:\\users\\kiit\\downloads\\anaconda\\lib\\site-packages)\n",
      "WARNING: Ignoring invalid distribution -rotobuf (c:\\users\\kiit\\downloads\\anaconda\\lib\\site-packages)\n",
      "WARNING: Ignoring invalid distribution -rotobuf (c:\\users\\kiit\\downloads\\anaconda\\lib\\site-packages)\n",
      "WARNING: Ignoring invalid distribution -rotobuf (c:\\users\\kiit\\downloads\\anaconda\\lib\\site-packages)\n"
     ]
    }
   ],
   "source": [
    "!pip install pymysql"
   ]
  },
  {
   "cell_type": "markdown",
   "id": "774a42eb",
   "metadata": {},
   "source": [
    "# DATABASE CREATION WITH SQLITE3"
   ]
  },
  {
   "cell_type": "code",
   "execution_count": 4,
   "id": "5337bbdb",
   "metadata": {},
   "outputs": [
    {
     "name": "stdout",
     "output_type": "stream",
     "text": [
      "Requirement already satisfied: pandas in c:\\users\\kiit\\downloads\\anaconda\\lib\\site-packages (1.5.3)\n"
     ]
    },
    {
     "name": "stderr",
     "output_type": "stream",
     "text": [
      "WARNING: Ignoring invalid distribution -rotobuf (c:\\users\\kiit\\downloads\\anaconda\\lib\\site-packages)\n",
      "WARNING: Ignoring invalid distribution -rotobuf (c:\\users\\kiit\\downloads\\anaconda\\lib\\site-packages)\n",
      "ERROR: Could not find a version that satisfies the requirement sqlite3 (from versions: none)\n",
      "ERROR: No matching distribution found for sqlite3\n",
      "WARNING: Ignoring invalid distribution -rotobuf (c:\\users\\kiit\\downloads\\anaconda\\lib\\site-packages)\n",
      "WARNING: Ignoring invalid distribution -rotobuf (c:\\users\\kiit\\downloads\\anaconda\\lib\\site-packages)\n",
      "WARNING: Ignoring invalid distribution -rotobuf (c:\\users\\kiit\\downloads\\anaconda\\lib\\site-packages)\n"
     ]
    },
    {
     "name": "stdout",
     "output_type": "stream",
     "text": [
      "Database connection established.\n"
     ]
    }
   ],
   "source": [
    "# Cell 1: Install necessary libraries (run once)\n",
    "!pip install pandas sqlite3 requests ipython-sql\n",
    "\n",
    "# Cell 2: Import libraries\n",
    "import sqlite3\n",
    "import pandas as pd\n",
    "import requests\n",
    "from datetime import datetime, timedelta\n",
    "\n",
    "# Cell 3: Connect to SQLite database\n",
    "conn = sqlite3.connect('flight_database.db')\n",
    "cursor = conn.cursor()\n",
    "print(\"Database connection established.\")"
   ]
  },
  {
   "cell_type": "code",
   "execution_count": 5,
   "id": "de85fd17",
   "metadata": {},
   "outputs": [
    {
     "name": "stdout",
     "output_type": "stream",
     "text": [
      "Airports table created.\n"
     ]
    }
   ],
   "source": [
    "#CCreating Airports table\n",
    "cursor.execute('''\n",
    "CREATE TABLE IF NOT EXISTS Airports (\n",
    "    airport_id INTEGER PRIMARY KEY AUTOINCREMENT,\n",
    "    name TEXT NOT NULL,\n",
    "    iata_code TEXT UNIQUE,\n",
    "    icao_code TEXT UNIQUE,\n",
    "    country TEXT,\n",
    "    city TEXT,\n",
    "    latitude REAL,\n",
    "    longitude REAL\n",
    ")\n",
    "''')\n",
    "conn.commit()\n",
    "print(\"Airports table created.\")"
   ]
  },
  {
   "cell_type": "code",
   "execution_count": 6,
   "id": "0ac364e4",
   "metadata": {},
   "outputs": [
    {
     "name": "stdout",
     "output_type": "stream",
     "text": [
      "Inserted 5 German airports.\n",
      "Airlines, Flights, and FlightStatus tables created.\n",
      "Inserted sample flights and statuses.\n"
     ]
    }
   ],
   "source": [
    "#Insert 5 German airports\n",
    "airports_data = [\n",
    "    (\"Berlin Brandenburg Airport\", \"BER\", \"EDDB\", \"Germany\", \"Berlin\", 52.3514, 13.4937),\n",
    "    (\"Munich Airport\", \"MUC\", \"EDDM\", \"Germany\", \"Munich\", 48.3538, 11.7861),\n",
    "    (\"Frankfurt Airport\", \"FRA\", \"EDDF\", \"Germany\", \"Frankfurt\", 50.0333, 8.5706),\n",
    "    (\"Hamburg Airport\", \"HAM\", \"EDDH\", \"Germany\", \"Hamburg\", 53.6304, 9.9882),\n",
    "    (\"Cologne Bonn Airport\", \"CGN\", \"EDDK\", \"Germany\", \"Cologne\", 50.8659, 7.1427)\n",
    "]\n",
    "\n",
    "cursor.executemany('INSERT INTO Airports (name, iata_code, icao_code, country, city, latitude, longitude) VALUES (?, ?, ?, ?, ?, ?, ?)', airports_data)\n",
    "conn.commit()\n",
    "print(\"Inserted 5 German airports.\")\n",
    "\n",
    "#Creating additional tables of Airlines, Flights, FlightStatus\n",
    "cursor.execute('''\n",
    "CREATE TABLE IF NOT EXISTS Airlines (\n",
    "    airline_id INTEGER PRIMARY KEY AUTOINCREMENT,\n",
    "    name TEXT NOT NULL,\n",
    "    code TEXT UNIQUE\n",
    ")\n",
    "''')\n",
    "\n",
    "cursor.execute('''\n",
    "CREATE TABLE IF NOT EXISTS Flights (\n",
    "    flight_id INTEGER PRIMARY KEY AUTOINCREMENT,\n",
    "    flight_number TEXT NOT NULL,\n",
    "    airline_id INTEGER,\n",
    "    departure_airport_id INTEGER,\n",
    "    arrival_airport_id INTEGER,\n",
    "    scheduled_departure TEXT,\n",
    "    scheduled_arrival TEXT,\n",
    "    FOREIGN KEY (airline_id) REFERENCES Airlines(airline_id),\n",
    "    FOREIGN KEY (departure_airport_id) REFERENCES Airports(airport_id),\n",
    "    FOREIGN KEY (arrival_airport_id) REFERENCES Airports(airport_id)\n",
    ")\n",
    "''')\n",
    "\n",
    "cursor.execute('''\n",
    "CREATE TABLE IF NOT EXISTS FlightStatus (\n",
    "    status_id INTEGER PRIMARY KEY AUTOINCREMENT,\n",
    "    flight_id INTEGER,\n",
    "    actual_departure TEXT,\n",
    "    actual_arrival TEXT,\n",
    "    status TEXT,\n",
    "    delay_minutes INTEGER,\n",
    "    FOREIGN KEY (flight_id) REFERENCES Flights(flight_id)\n",
    ")\n",
    "''')\n",
    "conn.commit()\n",
    "print(\"Airlines, Flights, and FlightStatus tables created.\")\n",
    "\n",
    "#Insert sampling airlines and flights\n",
    "cursor.execute(\"INSERT INTO Airlines (name, code) VALUES ('Lufthansa', 'LH')\")\n",
    "cursor.execute(\"INSERT INTO Airlines (name, code) VALUES ('Ryanair', 'FR')\")\n",
    "\n",
    "flights_data = [\n",
    "    (\"LH123\", 1, 1, 2, \"2025-03-23 08:00\", \"2025-03-23 09:30\"),  \n",
    "    (\"FR456\", 2, 3, 4, \"2025-03-23 10:00\", \"2025-03-23 11:30\"),  \n",
    "    (\"LH789\", 1, 5, 1, \"2025-03-23 12:00\", \"2025-03-23 13:45\"),  #delayed\n",
    "    (\"FR101\", 2, 2, 3, \"2025-03-23 14:00\", \"2025-03-23 15:15\"),  \n",
    "    (\"LH202\", 1, 4, 5, \"2025-03-23 16:00\", \"2025-03-23 17:30\"),  #delayed\n",
    "]\n",
    "\n",
    "cursor.executemany('INSERT INTO Flights (flight_number, airline_id, departure_airport_id, arrival_airport_id, scheduled_departure, scheduled_arrival) VALUES (?, ?, ?, ?, ?, ?)', flights_data)\n",
    "\n",
    "# Insert flight statuses\n",
    "flight_statuses = [\n",
    "    (1, \"2025-03-23 08:05\", \"2025-03-23 09:35\", \"Completed\", 5),\n",
    "    (2, \"2025-03-23 10:00\", \"2025-03-23 11:25\", \"Completed\", 0),\n",
    "    (3, \"2025-03-23 12:10\", \"2025-03-23 16:00\", \"Completed\", 135),  #Delayed > 2 hrs\n",
    "    (4, \"2025-03-23 14:05\", \"2025-03-23 15:20\", \"Completed\", 5),\n",
    "    (5, \"2025-03-23 16:15\", \"2025-03-23 19:00\", \"Completed\", 150),  #Delayed > 2 hrs\n",
    "]\n",
    "\n",
    "cursor.executemany('INSERT INTO FlightStatus (flight_id, actual_departure, actual_arrival, status, delay_minutes) VALUES (?, ?, ?, ?, ?)', flight_statuses)\n",
    "conn.commit()\n",
    "print(\"Inserted sample flights and statuses.\")"
   ]
  },
  {
   "cell_type": "code",
   "execution_count": 7,
   "id": "1de10e31",
   "metadata": {},
   "outputs": [
    {
     "name": "stdout",
     "output_type": "stream",
     "text": [
      "Flights from BER:\n",
      "  flight_number                   departure         arrival  \\\n",
      "0         LH123  Berlin Brandenburg Airport  Munich Airport   \n",
      "\n",
      "  scheduled_departure scheduled_arrival  \n",
      "0    2025-03-23 08:00  2025-03-23 09:30  \n"
     ]
    }
   ],
   "source": [
    "query1 = '''\n",
    "SELECT f.flight_number, a1.name AS departure, a2.name AS arrival, f.scheduled_departure, f.scheduled_arrival\n",
    "FROM Flights f\n",
    "JOIN Airports a1 ON f.departure_airport_id = a1.airport_id\n",
    "JOIN Airports a2 ON f.arrival_airport_id = a2.airport_id\n",
    "WHERE a1.iata_code = 'BER'\n",
    "'''\n",
    "flights_from_ber = pd.read_sql_query(query1, conn)\n",
    "print(\"Flights from BER:\")\n",
    "print(flights_from_ber)"
   ]
  },
  {
   "cell_type": "code",
   "execution_count": 8,
   "id": "962310b1",
   "metadata": {},
   "outputs": [
    {
     "name": "stdout",
     "output_type": "stream",
     "text": [
      "Flights delayed by more than 2 hours:\n",
      "  flight_number             departure                     arrival  \\\n",
      "0         LH789  Cologne Bonn Airport  Berlin Brandenburg Airport   \n",
      "1         LH202       Hamburg Airport        Cologne Bonn Airport   \n",
      "\n",
      "   delay_minutes  \n",
      "0            135  \n",
      "1            150  \n"
     ]
    }
   ],
   "source": [
    "query2 = '''\n",
    "SELECT f.flight_number, a1.name AS departure, a2.name AS arrival, fs.delay_minutes\n",
    "FROM Flights f\n",
    "JOIN FlightStatus fs ON f.flight_id = fs.flight_id\n",
    "JOIN Airports a1 ON f.departure_airport_id = a1.airport_id\n",
    "JOIN Airports a2 ON f.arrival_airport_id = a2.airport_id\n",
    "WHERE fs.delay_minutes > 120\n",
    "'''\n",
    "delayed_flights = pd.read_sql_query(query2, conn)\n",
    "print(\"Flights delayed by more than 2 hours:\")\n",
    "print(delayed_flights)"
   ]
  },
  {
   "cell_type": "code",
   "execution_count": 9,
   "id": "35fe414c",
   "metadata": {
    "scrolled": true
   },
   "outputs": [
    {
     "name": "stdout",
     "output_type": "stream",
     "text": [
      "Details for flight LH789:\n",
      "  flight_number    airline             departure                     arrival  \\\n",
      "0         LH789  Lufthansa  Cologne Bonn Airport  Berlin Brandenburg Airport   \n",
      "\n",
      "   actual_departure    actual_arrival  delay_minutes  \n",
      "0  2025-03-23 12:10  2025-03-23 16:00            135  \n"
     ]
    }
   ],
   "source": [
    "flight_number = 'LH789'\n",
    "query3 = '''\n",
    "SELECT f.flight_number, al.name AS airline, a1.name AS departure, a2.name AS arrival, fs.actual_departure, fs.actual_arrival, fs.delay_minutes\n",
    "FROM Flights f\n",
    "JOIN Airlines al ON f.airline_id = al.airline_id\n",
    "JOIN Airports a1 ON f.departure_airport_id = a1.airport_id\n",
    "JOIN Airports a2 ON f.arrival_airport_id = a2.airport_id\n",
    "JOIN FlightStatus fs ON f.flight_id = fs.flight_id\n",
    "WHERE f.flight_number = ?\n",
    "'''\n",
    "flight_details = pd.read_sql_query(query3, conn, params=(flight_number,))\n",
    "print(f\"Details for flight {flight_number}:\")\n",
    "print(flight_details)"
   ]
  },
  {
   "cell_type": "markdown",
   "id": "6e8e8857",
   "metadata": {},
   "source": [
    "# API ENDPOINT CREATION WITH AVIATIONSTACK\n"
   ]
  },
  {
   "cell_type": "code",
   "execution_count": 4,
   "id": "72ee517a",
   "metadata": {},
   "outputs": [
    {
     "name": "stderr",
     "output_type": "stream",
     "text": [
      "2025-03-24 00:34:43,070 - DEBUG - Starting new HTTP connection (1): api.aviationstack.com:80\n",
      "2025-03-24 00:34:45,963 - DEBUG - http://api.aviationstack.com:80 \"GET /v1/flights?access_key=f3c053ef669497c6ad9f887ca41e4da5&limit=10 HTTP/1.1\" 200 None\n",
      "2025-03-24 00:34:45,969 - INFO - Successfully fetched data from AviationStack.\n",
      "2025-03-24 00:34:45,974 - WARNING - Airport not found: KHG or QSZ\n",
      "2025-03-24 00:34:45,976 - WARNING - Airport not found: PKX or ENH\n",
      "2025-03-24 00:34:45,978 - WARNING - Airport not found: CAI or IST\n",
      "2025-03-24 00:34:45,981 - WARNING - Airport not found: PVG or CGQ\n",
      "2025-03-24 00:34:45,983 - WARNING - Airport not found: TNA or WUH\n",
      "2025-03-24 00:34:45,986 - WARNING - Airport not found: HKG or SIN\n",
      "2025-03-24 00:34:45,988 - WARNING - Airport not found: CNS or MEL\n",
      "2025-03-24 00:34:45,990 - WARNING - Airport not found: KHH or KIX\n",
      "2025-03-24 00:34:45,992 - WARNING - Airport not found: ROK or BNE\n",
      "2025-03-24 00:34:45,995 - WARNING - Airport not found: WNZ or KWE\n"
     ]
    }
   ],
   "source": [
    "import requests\n",
    "import sqlite3\n",
    "from datetime import datetime\n",
    "import logging\n",
    "\n",
    "#Setup logging for api\n",
    "logging.basicConfig(level=logging.INFO, format='%(asctime)s - %(levelname)s - %(message)s')\n",
    "logger = logging.getLogger(__name__)\n",
    "\n",
    "# AviationStack API key\n",
    "API_KEY = \"f3c053ef669497c6ad9f887ca41e4da5\"\n",
    "\n",
    "#Connecting database\n",
    "def get_db_connection():\n",
    "    conn = sqlite3.connect('flight_database.db')\n",
    "    conn.row_factory = sqlite3.Row\n",
    "    return conn\n",
    "\n",
    "#AviationStack fetching data\n",
    "def fetch_realtime_flight_data():\n",
    "    url = f\"http://api.aviationstack.com/v1/flights?access_key={API_KEY}&limit=10\"  # Limit to 10 for demo\n",
    "    try:\n",
    "        response = requests.get(url, timeout=10)\n",
    "        if response.status_code == 200:\n",
    "            logger.info(\"Successfully fetched data from AviationStack.\")\n",
    "            return response.json()['data']  # Return list of flights\n",
    "        else:\n",
    "            logger.error(f\"API error: {response.status_code} - {response.text}\")\n",
    "            return None\n",
    "    except requests.RequestException as e:\n",
    "        logger.error(f\"Error fetching data: {e}\")\n",
    "        return None\n",
    "\n",
    "#store or update flight data in the database\n",
    "def store_flight_data(flights):\n",
    "    conn = get_db_connection()\n",
    "    cursor = conn.cursor()\n",
    "\n",
    "    for flight in flights:\n",
    "        flight_number = flight.get('flight', {}).get('number', 'Unknown')\n",
    "        departure_iata = flight.get('departure', {}).get('iata', '')\n",
    "        arrival_iata = flight.get('arrival', {}).get('iata', '')\n",
    "        scheduled_departure = flight.get('departure', {}).get('scheduled', '')\n",
    "        scheduled_arrival = flight.get('arrival', {}).get('scheduled', '')\n",
    "        actual_arrival = flight.get('arrival', {}).get('actual', None)\n",
    "        status = flight.get('flight_status', 'Unknown')\n",
    "\n",
    "        #Calculating delay\n",
    "        delay_minutes = None\n",
    "        if actual_arrival and scheduled_arrival:\n",
    "            try:\n",
    "                sched = datetime.strptime(scheduled_arrival, \"%Y-%m-%dT%H:%M:%S%z\")\n",
    "                actual = datetime.strptime(actual_arrival, \"%Y-%m-%dT%H:%M:%S%z\")\n",
    "                delay = (actual - sched).total_seconds() / 60\n",
    "                delay_minutes = int(delay) if delay > 0 else 0\n",
    "            except ValueError as e:\n",
    "                logger.warning(f\"Date parsing error for flight {flight_number}: {e}\")\n",
    "\n",
    "        #Get airport IDs\n",
    "        cursor.execute(\"SELECT airport_id FROM Airports WHERE iata_code = ?\", (departure_iata,))\n",
    "        dep_id = cursor.fetchone()[0] if cursor.fetchone() else None\n",
    "        cursor.execute(\"SELECT airport_id FROM Airports WHERE iata_code = ?\", (arrival_iata,))\n",
    "        arr_id = cursor.fetchone()[0] if cursor.fetchone() else None\n",
    "\n",
    "        if not dep_id or not arr_id:\n",
    "            logger.warning(f\"Airport not found: {departure_iata} or {arrival_iata}\")\n",
    "            continue\n",
    "\n",
    "        #Check if flight exists\n",
    "        cursor.execute(\"SELECT flight_id FROM Flights WHERE flight_number = ?\", (flight_number,))\n",
    "        flight_id = cursor.fetchone()\n",
    "\n",
    "        if flight_id:\n",
    "            flight_id = flight_id[0]\n",
    "            #Update existing flight\n",
    "            cursor.execute(\"\"\"\n",
    "                UPDATE Flights SET scheduled_departure = ?, scheduled_arrival = ?\n",
    "                WHERE flight_id = ?\"\"\", (scheduled_departure, scheduled_arrival, flight_id))\n",
    "            cursor.execute(\"\"\"\n",
    "                UPDATE FlightStatus SET actual_arrival = ?, status = ?, delay_minutes = ?\n",
    "                WHERE flight_id = ?\"\"\", (actual_arrival, status, delay_minutes, flight_id))\n",
    "            logger.info(f\"Updated flight {flight_number}.\")\n",
    "        else:\n",
    "            #Insert new flight (assuming airline_id=1, else 0)\n",
    "            cursor.execute(\"\"\"\n",
    "                INSERT INTO Flights (flight_number, airline_id, departure_airport_id, arrival_airport_id, \n",
    "                                    scheduled_departure, scheduled_arrival)\n",
    "                VALUES (?, 1, ?, ?, ?, ?)\"\"\", \n",
    "                (flight_number, dep_id, arr_id, scheduled_departure, scheduled_arrival))\n",
    "            flight_id = cursor.lastrowid\n",
    "            cursor.execute(\"\"\"\n",
    "                INSERT INTO FlightStatus (flight_id, actual_arrival, status, delay_minutes)\n",
    "                VALUES (?, ?, ?, ?)\"\"\", \n",
    "                (flight_id, actual_arrival, status, delay_minutes))\n",
    "            logger.info(f\"Inserted new flight {flight_number}.\")\n",
    "\n",
    "    conn.commit()\n",
    "    conn.close()\n",
    "\n",
    "#execution\n",
    "if __name__ == \"__main__\":\n",
    "    flights = fetch_realtime_flight_data()\n",
    "    if flights:\n",
    "        store_flight_data(flights)\n",
    "    else:\n",
    "        logger.error(\"No flight data retrieved.\")"
   ]
  },
  {
   "cell_type": "markdown",
   "id": "ec418228",
   "metadata": {},
   "source": [
    "NOTE: AIRPORT NOT FOUND COULD BE BECAUSE THE SAMPLE DATA THAT WAS GENERATED, THE ABBREVEATIONS MIGHT NOT BE THE SAME"
   ]
  },
  {
   "cell_type": "code",
   "execution_count": null,
   "id": "5311b9eb",
   "metadata": {},
   "outputs": [],
   "source": []
  }
 ],
 "metadata": {
  "kernelspec": {
   "display_name": "Python 3.5 (env)",
   "language": "python",
   "name": "py35_env"
  },
  "language_info": {
   "codemirror_mode": {
    "name": "ipython",
    "version": 3
   },
   "file_extension": ".py",
   "mimetype": "text/x-python",
   "name": "python",
   "nbconvert_exporter": "python",
   "pygments_lexer": "ipython3",
   "version": "3.10.9"
  }
 },
 "nbformat": 4,
 "nbformat_minor": 5
}
